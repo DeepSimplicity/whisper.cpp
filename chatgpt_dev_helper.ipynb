{
  "cells": [
    {
      "cell_type": "markdown",
      "id": "178ffa1b",
      "metadata": {
        "id": "178ffa1b"
      },
      "source": [
        "# ChatGPT Dev Helper\n",
        "\n",
        "The purpose of this notebook is to provide a quick intro to using the ChatGPT API.\n",
        "\n",
        "Our examples are:\n",
        "- Creating a series of related limericks about podcasts\n",
        "- Generating some fake patients for a GP practice and asking ChatGPT to provide information and next steps for their treatment"
      ]
    },
    {
      "cell_type": "markdown",
      "id": "dfa3732d",
      "metadata": {
        "id": "dfa3732d"
      },
      "source": [
        "## Setup\n",
        "\n",
        "Import libraries and set static variables"
      ]
    },
    {
      "cell_type": "code",
      "execution_count": null,
      "id": "dc137241",
      "metadata": {
        "id": "dc137241"
      },
      "outputs": [],
      "source": [
        "import openai\n",
        "import os\n",
        "import requests\n",
        "\n",
        "# set API key\n",
        "openai.api_key = os.environ.get(\"OPENAI_API_KEY\")\n",
        "\n",
        "COMPLETIONS_MODEL = 'text-davinci-003'\n",
        "CHATGPT_MODEL = \"chat-davinci-003-alpha\""
      ]
    },
    {
      "cell_type": "code",
      "execution_count": null,
      "id": "b820bb26",
      "metadata": {
        "id": "b820bb26"
      },
      "outputs": [],
      "source": [
        "headers = {\n",
        "    \"Content-Type\": \"application/json\",\n",
        "    \"Authorization\": f\"Bearer {openai.api_key}\"\n",
        "}\n",
        "completions_url = 'https://api.openai.com/v1/completions'"
      ]
    },
    {
      "cell_type": "code",
      "execution_count": null,
      "id": "a769e85f",
      "metadata": {
        "id": "a769e85f"
      },
      "outputs": [],
      "source": [
        "# Simple function that formats a prompt for injection into ChatGPT\n",
        "def create_prompt(prompt):\n",
        "    cleaned_prompt = '\\n<|im_start|>user\\n' + prompt +  '<|im_end|>\\n<|im_start|>assistant'\n",
        "    return cleaned_prompt\n",
        "\n",
        "# Class for holding ChatGPT context\n",
        "class ChatGPT():\n",
        "    \n",
        "    # Initialises with your OpenAI Key and creates an empty list to hold the dialogue\n",
        "    def __init__(self,key):\n",
        "        self.key = key\n",
        "        # Dialogue stored as tuples consisting of (sender,message)\n",
        "        self.dialogue = []\n",
        "        \n",
        "    \n",
        "    # Simple function which returns the full conversation so far\n",
        "    def conversation(self):\n",
        "        \n",
        "        if len(self.dialogue) == 0:\n",
        "            print('No conversation to show')\n",
        "            \n",
        "        else:\n",
        "            conversation = [x[1] for x in self.dialogue]\n",
        "            return ''.join(conversation)\n",
        "        \n",
        "    # Function that takes a prompt and any other model params, and stores user input and assistant feedback in the dialogue    \n",
        "    def chat(self,prompt,CHATGPT_MODEL=\"chat-davinci-003-alpha\",temperature=0,max_tokens=500):\n",
        "        \n",
        "        # Prepare prompt with <im> tags\n",
        "        prepared_prompt = create_prompt(prompt)\n",
        "        \n",
        "        self.dialogue.append(('user',prepared_prompt))\n",
        "        \n",
        "        if len(self.dialogue) != 0:\n",
        "            prepared_prompt = self.conversation() + prepared_prompt\n",
        "        \n",
        "        # Builds up JSON data for request\n",
        "        json_data = {\n",
        "        \"model\": CHATGPT_MODEL,\n",
        "        \"prompt\": prepared_prompt,\n",
        "        \"temperature\": 0,\n",
        "        \"max_tokens\": max_tokens\n",
        "        }\n",
        "        \n",
        "        try:\n",
        "            # Send request to ChatGPT\n",
        "            response = requests.post(completions_url,headers=headers,json=json_data)\n",
        "            \n",
        "            # Save assistant response in the dialogue\n",
        "            self.dialogue.append(('assistant',response.json()['choices'][0]['text']))\n",
        "            \n",
        "            # Sends response back as text\n",
        "            return response.json()['choices'][0]['text']\n",
        "        \n",
        "        except Exception as e:\n",
        "            return f'Request failed with exception {e}'\n",
        "        \n",
        "    # Clears context and resets chat    \n",
        "    def clear(self):\n",
        "        self.dialogue = []\n",
        "        return 'Chat context cleared'"
      ]
    },
    {
      "cell_type": "markdown",
      "id": "8246e388",
      "metadata": {
        "id": "8246e388"
      },
      "source": [
        "## Limerick conversation\n",
        "\n",
        "Here we're going to try making some rhyming poems about podcasts to get used to using our ChatGPT Class.\n",
        "\n",
        "We'll go back and forth three times to get into the rhythm of inserting new prompts and passing context back in."
      ]
    },
    {
      "cell_type": "code",
      "execution_count": null,
      "id": "e3ab8705",
      "metadata": {
        "id": "e3ab8705",
        "outputId": "597bd5f3-6c55-497c-928e-0372c3711985"
      },
      "outputs": [
        {
          "data": {
            "text/plain": [
              "\"\\nPodcasts are now a part of our scene,\\nWith stories and facts that are keen,\\nThey're listened to daily,\\nBy folks who are quite giddy,\\nFor the entertainment they glean.<|im_end|>\""
            ]
          },
          "execution_count": 103,
          "metadata": {},
          "output_type": "execute_result"
        }
      ],
      "source": [
        "# Initiate ChatGPT object and make first question\n",
        "chat = ChatGPT(openai.api_key)\n",
        "chat.chat('Write a rhyming limerick about podcasts in popular culture')"
      ]
    },
    {
      "cell_type": "code",
      "execution_count": null,
      "id": "a4be272b",
      "metadata": {
        "id": "a4be272b",
        "outputId": "4248f6ed-d39b-48dc-aee2-4f302c408265"
      },
      "outputs": [
        {
          "data": {
            "text/plain": [
              "\"\\nPodcasts can be great, that's true,\\nBut some folks just listen to spew,\\nTheir hate and their lies,\\nIt's hard to believe the size,\\nOf the negativity they accrue.<|im_end|>\""
            ]
          },
          "execution_count": 104,
          "metadata": {},
          "output_type": "execute_result"
        }
      ],
      "source": [
        "# Send a second request\n",
        "chat.chat('Now write another one about the negative side of podcasts in popular culture')"
      ]
    },
    {
      "cell_type": "code",
      "execution_count": null,
      "id": "6775a9da",
      "metadata": {
        "id": "6775a9da",
        "outputId": "82115322-189d-414f-8924-81aad81b9778"
      },
      "outputs": [
        {
          "data": {
            "text/plain": [
              "[('user',\n",
              "  '\\n<|im_start|>user\\nWrite a rhyming limerick about podcasts in popular culture<|im_end|>\\n<|im_start|>assistant'),\n",
              " ('assistant',\n",
              "  \"\\nPodcasts are now a part of our scene,\\nWith stories and facts that are keen,\\nThey're listened to daily,\\nBy folks who are quite giddy,\\nFor the entertainment they glean.<|im_end|>\"),\n",
              " ('user',\n",
              "  '\\n<|im_start|>user\\nNow write another one about the negative side of podcasts in popular culture<|im_end|>\\n<|im_start|>assistant'),\n",
              " ('assistant',\n",
              "  \"\\nPodcasts can be great, that's true,\\nBut some folks just listen to spew,\\nTheir hate and their lies,\\nIt's hard to believe the size,\\nOf the negativity they accrue.<|im_end|>\")]"
            ]
          },
          "execution_count": 105,
          "metadata": {},
          "output_type": "execute_result"
        }
      ],
      "source": [
        "# Check dialogue so far in format (sender,message) and using the conversation method, which formats input as the model expects\n",
        "chat.dialogue"
      ]
    },
    {
      "cell_type": "code",
      "execution_count": null,
      "id": "b26e5302",
      "metadata": {
        "id": "b26e5302",
        "outputId": "e6b8dbb6-03a7-47a4-ea6c-1e40aa4d5faf"
      },
      "outputs": [
        {
          "data": {
            "text/plain": [
              "\"\\nThough some podcasts may be a drag,\\nWith negativity that's a snag,\\nThe good ones outshine,\\nWith stories that entwine,\\nAnd make the listening worth the snag.\\n<|im_end|>\""
            ]
          },
          "execution_count": 106,
          "metadata": {},
          "output_type": "execute_result"
        }
      ],
      "source": [
        "# Senda third request\n",
        "chat.chat('Now make one last rhyming poem about why the good outweighs the bad with podcasts')"
      ]
    },
    {
      "cell_type": "code",
      "execution_count": null,
      "id": "7906dffc",
      "metadata": {
        "id": "7906dffc",
        "outputId": "5e1a4621-e798-4eda-9968-c1674844fe14"
      },
      "outputs": [
        {
          "name": "stdout",
          "output_type": "stream",
          "text": [
            "\n",
            "<|im_start|>user\n",
            "Write a rhyming limerick about podcasts in popular culture<|im_end|>\n",
            "<|im_start|>assistant\n",
            "Podcasts are now a part of our scene,\n",
            "With stories and facts that are keen,\n",
            "They're listened to daily,\n",
            "By folks who are quite giddy,\n",
            "For the entertainment they glean.<|im_end|>\n",
            "<|im_start|>user\n",
            "Now write another one about the negative side of podcasts in popular culture<|im_end|>\n",
            "<|im_start|>assistant\n",
            "Podcasts can be great, that's true,\n",
            "But some folks just listen to spew,\n",
            "Their hate and their lies,\n",
            "It's hard to believe the size,\n",
            "Of the negativity they accrue.<|im_end|>\n",
            "<|im_start|>user\n",
            "Now make one last rhyming poem about why the good outweighs the bad with podcasts<|im_end|>\n",
            "<|im_start|>assistant\n",
            "Though some podcasts may be a drag,\n",
            "With negativity that's a snag,\n",
            "The good ones outshine,\n",
            "With stories that entwine,\n",
            "And make the listening worth the snag.\n",
            "<|im_end|>\n"
          ]
        }
      ],
      "source": [
        "print(chat.conversation())"
      ]
    },
    {
      "cell_type": "code",
      "execution_count": null,
      "id": "1fc57734",
      "metadata": {
        "id": "1fc57734",
        "outputId": "8cd93dc9-4b68-4987-a3c7-9ea79c53d9fd"
      },
      "outputs": [
        {
          "data": {
            "text/plain": [
              "[]"
            ]
          },
          "execution_count": 111,
          "metadata": {},
          "output_type": "execute_result"
        }
      ],
      "source": [
        "# Clear chat context and check dialogue is empty\n",
        "chat.clear()\n",
        "chat.dialogue"
      ]
    },
    {
      "cell_type": "markdown",
      "id": "e8b9280c",
      "metadata": {
        "id": "e8b9280c"
      },
      "source": [
        "## Generate fake data\n",
        "\n",
        "Now we're going to use ChatGPT to generate some fictional data and build on the initial context that we set"
      ]
    },
    {
      "cell_type": "code",
      "execution_count": null,
      "id": "35007f58",
      "metadata": {
        "id": "35007f58",
        "outputId": "7339e919-5452-4982-e423-4d9d539c2d82"
      },
      "outputs": [
        {
          "data": {
            "text/plain": [
              "'\\n- John Smith, age 35, male, occupation: construction worker\\n- Jane Doe, age 42, female, occupation: stay-at-home mom\\n- Michael Johnson, age 55, male, occupation: accountant\\n- Sarah Lee, age 29, female, occupation: teacher\\n- David Brown, age 48, male, occupation: lawyer\\n- Emily Davis, age 31, female, occupation: nurse\\n- William Miller, age 62, male, occupation: retiree\\n- Melissa Garcia, age 24, female, occupation: student\\n- Joseph Rodriguez, age 39, male, occupation: delivery driver\\n- Amanda Turner, age 50, female, occupation: business owner<|im_end|>'"
            ]
          },
          "execution_count": 120,
          "metadata": {},
          "output_type": "execute_result"
        }
      ],
      "source": [
        "# Supply initial prompt\n",
        "chat.chat(\"Generate me a bulleted list of 10 fictional customers for a GP practice. I'm a doctor who is building a database of customers to analyse\")"
      ]
    },
    {
      "cell_type": "code",
      "execution_count": null,
      "id": "5b710196",
      "metadata": {
        "id": "5b710196"
      },
      "outputs": [],
      "source": [
        "# I'll extract the list of names out of this response using our completions endpoint \n",
        "name_list = openai.Completion.create(engine=COMPLETIONS_MODEL,prompt=f\"Return a comma-delimited list of names from this text:\\n {chat.dialogue[1][1]}\",max_tokens=1000)\n",
        "client_names = [x.strip() for x in name_list['choices'][0]['text'].split(',')]\n",
        "client_names"
      ]
    },
    {
      "cell_type": "code",
      "execution_count": null,
      "id": "f799f459",
      "metadata": {
        "id": "f799f459",
        "outputId": "422b9440-e2d0-4605-a416-9304f4df0ff8"
      },
      "outputs": [
        {
          "name": "stdout",
          "output_type": "stream",
          "text": [
            "\n",
            "Appointment 1:\n",
            "- Date: January 5th, 2022\n",
            "- Reason for visit: Follow-up for back pain\n",
            "- Assessment: Patient reported that his back pain has improved with physical therapy and over-the-counter pain medication. No red flags noted on physical examination.\n",
            "- Treatment: Advised to continue physical therapy and to follow up in 4 weeks.\n",
            "\n",
            "Appointment 2:\n",
            "- Date: February 2nd, 2022\n",
            "- Reason for visit: Follow-up for back pain\n",
            "- Assessment: Patient reported that his back pain has not improved and has increased in intensity. Physical examination revealed muscle spasms and tenderness in the lower back.\n",
            "- Treatment: Prescribed muscle relaxants and referred to a specialist for further evaluation.\n",
            "\n",
            "Appointment 3:\n",
            "- Date: March 9th, 2022\n",
            "- Reason for visit: Follow-up for back pain and specialist referral\n",
            "- Assessment: Patient reported that muscle relaxants have helped with the pain but still experiencing discomfort. Specialist recommended an MRI and physical therapy.\n",
            "- Treatment: Scheduled an MRI and advised to continue physical therapy.\n",
            "\n",
            "Appointment 4:\n",
            "- Date: April 6th, 2022\n",
            "- Reason for visit: Follow-up for back pain and MRI results\n",
            "- Assessment: MRI revealed a herniated disc in the lower back. Patient reported that physical therapy has helped but still experiencing pain.\n",
            "- Treatment: Prescribed pain medication and referred to a specialist for further evaluation.\n",
            "\n",
            "Appointment 5:\n",
            "- Date: May 4th, 2022\n",
            "- Reason for visit: Follow-up for back pain and specialist referral\n",
            "- Assessment: Patient reported that pain medication has helped but still experiencing discomfort. Specialist recommended surgery as an option.\n",
            "- Treatment: Scheduled a consultation with a surgeon and advised to continue physical therapy.\n",
            "<|im_end|>\n"
          ]
        }
      ],
      "source": [
        "# Lets get ChatGPT to generate me some medical history for one of these\n",
        "appointment_notes = chat.chat(\"Generate appointment notes for John Smith's last five appointments\")\n",
        "print(appointment_notes)"
      ]
    },
    {
      "cell_type": "code",
      "execution_count": null,
      "id": "930ee00e",
      "metadata": {
        "id": "930ee00e",
        "outputId": "496f18e2-e1b9-41f6-bf3b-56925093f6e0"
      },
      "outputs": [
        {
          "name": "stdout",
          "output_type": "stream",
          "text": [
            "\n",
            "Based on the appointment notes provided, it appears that John's condition has been declining over the course of 2022. In the first appointment, he reported that his back pain had improved with physical therapy and over-the-counter pain medication. However, in subsequent appointments, he reported that his pain had not improved and had increased in intensity. An MRI revealed a herniated disc in his lower back, and he was referred to a specialist for further evaluation. The specialist recommended surgery as an option, indicating that his condition has not improved with other treatments.\n",
            "<|im_end|>\n"
          ]
        }
      ],
      "source": [
        "# Lets ask ChatGPT to use this context to comment on John's trending condition\n",
        "condition_analysis = chat.chat(\"How has John's condition been over 2022, is he improving or declining?\")\n",
        "print(condition_analysis)"
      ]
    },
    {
      "cell_type": "code",
      "execution_count": null,
      "id": "a69b79a7",
      "metadata": {
        "id": "a69b79a7",
        "outputId": "71be945f-b03d-40ae-ada4-f06f4c523da9"
      },
      "outputs": [
        {
          "name": "stdout",
          "output_type": "stream",
          "text": [
            "\n",
            "1. Musculoskeletal conditions:\n",
            "- John Smith (back pain)\n",
            "- Michael Johnson (knee pain)\n",
            "- David Brown (shoulder pain)\n",
            "- Emily Davis (neck pain)\n",
            "- William Miller (hip pain)\n",
            "\n",
            "Next steps: Referral to a physical therapist for assessment and treatment, and follow-up appointments to monitor progress. Consideration of imaging (such as X-rays or MRI) if necessary.\n",
            "\n",
            "2. Cardiovascular conditions:\n",
            "- Jane Doe (high blood pressure)\n",
            "- Sarah Lee (high cholesterol)\n",
            "- Melissa Garcia (family history of heart disease)\n",
            "\n",
            "Next steps: Referral to a cardiologist for assessment and treatment, regular monitoring of blood pressure and cholesterol levels, and lifestyle changes (such as diet and exercise) to improve cardiovascular health.\n",
            "\n",
            "3. Respiratory conditions:\n",
            "- Michael Johnson (asthma)\n",
            "- David Brown (chronic bronchitis)\n",
            "\n",
            "Next steps: Referral to a pulmonologist for assessment and treatment, regular monitoring of symptoms, and use of inhaled medications as needed.\n",
            "\n",
            "4. Mental health conditions:\n",
            "- Sarah Lee (anxiety)\n",
            "- Emily Davis (depression)\n",
            "- William Miller (dementia)\n",
            "\n",
            "Next steps: Referral to a mental health professional for assessment and treatment, regular monitoring of symptoms, and use of medication and/or therapy as needed.\n",
            "\n",
            "5. Other conditions:\n",
            "- Joseph Rodriguez (diabetes)\n",
            "- Amanda Turner (osteoarthritis)\n",
            "\n",
            "Next steps: Referral to a specialist for assessment and treatment, regular monitoring of blood sugar levels (in the case of diabetes) and use of medication and/or therapy as needed.\n",
            "<|im_end|>\n"
          ]
        }
      ],
      "source": [
        "# Now lets call back to the start of the conversation and ask it to cluster our patients and come up with some next steps\n",
        "clustering = chat.chat(\"Please cluster my 10 patients into meaningful categories based on their conditions and suggest next steps for each\")\n",
        "print(clustering)"
      ]
    },
    {
      "cell_type": "code",
      "execution_count": null,
      "id": "11b02eb5",
      "metadata": {
        "id": "11b02eb5",
        "outputId": "da3fe0ae-7a80-45c3-9a5e-959ecb98b497"
      },
      "outputs": [
        {
          "data": {
            "text/plain": [
              "[]"
            ]
          },
          "execution_count": 125,
          "metadata": {},
          "output_type": "execute_result"
        }
      ],
      "source": [
        "# Clear chat context and check dialogue is empty\n",
        "chat.clear()\n",
        "chat.dialogue"
      ]
    },
    {
      "cell_type": "markdown",
      "id": "c0d20c59",
      "metadata": {
        "id": "c0d20c59"
      },
      "source": [
        "### Summary\n",
        "\n",
        "Very cool - we've now got a ChatGPT helper that we can use to maintain inputs and context. We look forward to seeing what you build with this!"
      ]
    }
  ],
  "metadata": {
    "kernelspec": {
      "display_name": "Python 3 (ipykernel)",
      "language": "python",
      "name": "python3"
    },
    "language_info": {
      "codemirror_mode": {
        "name": "ipython",
        "version": 3
      },
      "file_extension": ".py",
      "mimetype": "text/x-python",
      "name": "python",
      "nbconvert_exporter": "python",
      "pygments_lexer": "ipython3",
      "version": "3.10.9"
    },
    "colab": {
      "provenance": []
    }
  },
  "nbformat": 4,
  "nbformat_minor": 5
}